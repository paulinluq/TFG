{
  "nbformat": 4,
  "nbformat_minor": 0,
  "metadata": {
    "colab": {
      "provenance": [],
      "collapsed_sections": [
        "BiMDWO9duxjo"
      ]
    },
    "kernelspec": {
      "name": "python3",
      "display_name": "Python 3"
    },
    "language_info": {
      "name": "python"
    }
  },
  "cells": [
    {
      "cell_type": "markdown",
      "source": [
        "En este archivo se lleva a cabo la limpieza de los datasets. Se usa la misma estructura de código. Para cada dataset hay que ir cambiando el nombre (viento, corrientes, velocidad...)"
      ],
      "metadata": {
        "id": "OvvRewv0WyKd"
      }
    },
    {
      "cell_type": "markdown",
      "source": [
        "# CARGA DE DATOS"
      ],
      "metadata": {
        "id": "4vxaqn4Otrmv"
      }
    },
    {
      "cell_type": "markdown",
      "source": [
        "BUSCA DELIMITADOR"
      ],
      "metadata": {
        "id": "YBubrZR0twbw"
      }
    },
    {
      "cell_type": "code",
      "execution_count": null,
      "metadata": {
        "colab": {
          "base_uri": "https://localhost:8080/"
        },
        "id": "0E6jdwG8tpju",
        "outputId": "0f090c11-fb08-461f-fba9-e0bf581a7bd5"
      },
      "outputs": [
        {
          "output_type": "stream",
          "name": "stdout",
          "text": [
            "Línea 1:\n",
            "  Posible delimitador interno ',' encontrado 1 veces.\n",
            "  Posible delimitador interno '\t' encontrado 2 veces.\n",
            "--------------------------------------------------\n",
            "Línea 2:\n",
            "  Posible delimitador interno '\t' encontrado 2 veces.\n",
            "--------------------------------------------------\n",
            "Línea 3:\n",
            "  Posible delimitador interno '\t' encontrado 2 veces.\n",
            "--------------------------------------------------\n",
            "Línea 4:\n",
            "  Posible delimitador interno '\t' encontrado 2 veces.\n",
            "--------------------------------------------------\n",
            "Línea 5:\n",
            "  Posible delimitador interno '\t' encontrado 2 veces.\n",
            "--------------------------------------------------\n"
          ]
        }
      ],
      "source": [
        "import pandas as pd\n",
        "from collections import Counter\n",
        "\n",
        "# Ruta del archivo\n",
        "file_path = \"/content/viento - copia.csv\"  # Reemplaza con el archivo\n",
        "\n",
        "# Leer las primeras líneas del archivo para analizar posibles delimitadores internos\n",
        "with open(file_path, 'r') as file:\n",
        "    lines = [file.readline() for _ in range(5)]  # Lee las primeras 5 líneas\n",
        "\n",
        "# Contar posibles delimitadores internos en las columnas\n",
        "possible_internal_delimiters = [',', '\\t', ';', '|']\n",
        "for i, line in enumerate(lines):\n",
        "    print(f\"Línea {i + 1}:\")\n",
        "    for delimiter in possible_internal_delimiters:\n",
        "        count = line.count(delimiter)\n",
        "        if count > 0:\n",
        "            print(f\"  Posible delimitador interno '{delimiter}' encontrado {count} veces.\")\n",
        "    print(\"-\" * 50)"
      ]
    },
    {
      "cell_type": "markdown",
      "source": [
        "CARGAR DATASET"
      ],
      "metadata": {
        "id": "VlvVO6qTt5IK"
      }
    },
    {
      "cell_type": "code",
      "source": [
        "# Leer el archivo usando espacios como delimitador y saltar la primera fila\n",
        "raw_data = pd.read_csv(file_path, sep=r'\\t', skiprows=0, engine='python', header=0)\n",
        "\n",
        "\n",
        "# Mostrar las primeras filas del DataFrame limpio\n",
        "print(\"Primeras filas de los datos procesados:\")\n",
        "print(raw_data.head())"
      ],
      "metadata": {
        "colab": {
          "base_uri": "https://localhost:8080/"
        },
        "id": "wSdQv0Kdt8ov",
        "outputId": "a8904821-f883-49b5-f1ae-d9d2d7156c22"
      },
      "execution_count": null,
      "outputs": [
        {
          "output_type": "stream",
          "name": "stdout",
          "text": [
            "Primeras filas de los datos procesados:\n",
            "     \"Fecha (GMT)  Velocidad del viento(m/s)  \\\n",
            "0  \"2019 12 12 00                       7.33   \n",
            "1  \"2019 12 12 01                       5.82   \n",
            "2  \"2019 12 12 02                       5.84   \n",
            "3  \"2019 12 12 03                       5.61   \n",
            "4  \"2019 12 12 04                       5.36   \n",
            "\n",
            "  Direc. de proced. del Viento(0=N,90=E)\"  \n",
            "0                                    262\"  \n",
            "1                                    243\"  \n",
            "2                                    253\"  \n",
            "3                                    252\"  \n",
            "4                                    236\"  \n"
          ]
        }
      ]
    },
    {
      "cell_type": "markdown",
      "source": [
        "# LIMPIEZA"
      ],
      "metadata": {
        "id": "eqzZbAh9uF5k"
      }
    },
    {
      "cell_type": "markdown",
      "source": [
        "QUITAMOS LAS COMILLAS INNECESARIAS"
      ],
      "metadata": {
        "id": "FWZtXJMsuKz8"
      }
    },
    {
      "cell_type": "code",
      "source": [
        "# Eliminar el primer carácter de cada fila en la columna 'Fecha (GMT)'\n",
        "raw_data['\"Fecha (GMT)'] = raw_data['\"Fecha (GMT)'].str[1:]\n",
        "\n",
        "# Mostrar las primeras filas para verificar\n",
        "print(\"Primeras filas después de modificar 'Fecha (GMT)':\")\n",
        "print(raw_data.head())"
      ],
      "metadata": {
        "colab": {
          "base_uri": "https://localhost:8080/"
        },
        "id": "zCSCLhEHuJEG",
        "outputId": "ed422fbb-c27c-4e13-96ed-e2c02f90e105"
      },
      "execution_count": null,
      "outputs": [
        {
          "output_type": "stream",
          "name": "stdout",
          "text": [
            "Primeras filas después de modificar 'Fecha (GMT)':\n",
            "    \"Fecha (GMT)  Velocidad del viento(m/s)  \\\n",
            "0  2019 12 12 00                       7.33   \n",
            "1  2019 12 12 01                       5.82   \n",
            "2  2019 12 12 02                       5.84   \n",
            "3  2019 12 12 03                       5.61   \n",
            "4  2019 12 12 04                       5.36   \n",
            "\n",
            "  Direc. de proced. del Viento(0=N,90=E)\"  \n",
            "0                                    262\"  \n",
            "1                                    243\"  \n",
            "2                                    253\"  \n",
            "3                                    252\"  \n",
            "4                                    236\"  \n"
          ]
        }
      ]
    },
    {
      "cell_type": "code",
      "source": [
        "# Obtener el nombre de la primera columna\n",
        "primera_columna = raw_data.columns[0]\n",
        "\n",
        "# Renombrar la primera columna eliminando su primer carácter\n",
        "nuevo_nombre = primera_columna[1:]  # Eliminar el primer carácter del nombre\n",
        "raw_data.rename(columns={primera_columna: nuevo_nombre}, inplace=True)\n",
        "\n",
        "# Mostrar las primeras filas para verificar\n",
        "print(f\"Primeras filas después de modificar el nombre de la primera columna '{nuevo_nombre}':\")\n",
        "print(raw_data.head())"
      ],
      "metadata": {
        "colab": {
          "base_uri": "https://localhost:8080/"
        },
        "id": "nV130ENluQhY",
        "outputId": "d3e453a4-bcf6-4f14-a683-1feebf56f587"
      },
      "execution_count": null,
      "outputs": [
        {
          "output_type": "stream",
          "name": "stdout",
          "text": [
            "Primeras filas después de modificar el nombre de la primera columna 'Fecha (GMT)':\n",
            "     Fecha (GMT)  Velocidad del viento(m/s)  \\\n",
            "0  2019 12 12 00                       7.33   \n",
            "1  2019 12 12 01                       5.82   \n",
            "2  2019 12 12 02                       5.84   \n",
            "3  2019 12 12 03                       5.61   \n",
            "4  2019 12 12 04                       5.36   \n",
            "\n",
            "  Direc. de proced. del Viento(0=N,90=E)\"  \n",
            "0                                    262\"  \n",
            "1                                    243\"  \n",
            "2                                    253\"  \n",
            "3                                    252\"  \n",
            "4                                    236\"  \n"
          ]
        }
      ]
    },
    {
      "cell_type": "code",
      "source": [
        "# Eliminar el último carácter de cada fila en la última columna\n",
        "ultima_columna = raw_data.columns[-1]  # Obtener el nombre de la última columna\n",
        "raw_data[ultima_columna] = raw_data[ultima_columna].str[:-1]\n",
        "\n",
        "# Mostrar las primeras filas para verificar\n",
        "print(f\"Primeras filas después de modificar '{ultima_columna}':\")\n",
        "print(raw_data.head())"
      ],
      "metadata": {
        "colab": {
          "base_uri": "https://localhost:8080/"
        },
        "id": "h3c96G-DuS90",
        "outputId": "3cfd1f57-f6a3-4b90-c64a-18c9eb70c833"
      },
      "execution_count": null,
      "outputs": [
        {
          "output_type": "stream",
          "name": "stdout",
          "text": [
            "Primeras filas después de modificar 'Direc. de proced. del Viento(0=N,90=E)\"':\n",
            "     Fecha (GMT)  Velocidad del viento(m/s)  \\\n",
            "0  2019 12 12 00                       7.33   \n",
            "1  2019 12 12 01                       5.82   \n",
            "2  2019 12 12 02                       5.84   \n",
            "3  2019 12 12 03                       5.61   \n",
            "4  2019 12 12 04                       5.36   \n",
            "\n",
            "  Direc. de proced. del Viento(0=N,90=E)\"  \n",
            "0                                     262  \n",
            "1                                     243  \n",
            "2                                     253  \n",
            "3                                     252  \n",
            "4                                     236  \n"
          ]
        }
      ]
    },
    {
      "cell_type": "code",
      "source": [
        "# Renombrar la columna eliminando el último carácter del nombre\n",
        "nuevo_nombre = ultima_columna[:-1]  # Eliminar el último carácter del nombre\n",
        "raw_data.rename(columns={ultima_columna: nuevo_nombre}, inplace=True)\n",
        "\n",
        "# Mostrar las primeras filas para verificar\n",
        "print(f\"Primeras filas después de modificar '{nuevo_nombre}':\")\n",
        "print(raw_data.head())"
      ],
      "metadata": {
        "colab": {
          "base_uri": "https://localhost:8080/"
        },
        "id": "OcjXTd3OuVcI",
        "outputId": "fd0cd611-5ad0-4c9f-d810-124b025bd8eb"
      },
      "execution_count": null,
      "outputs": [
        {
          "output_type": "stream",
          "name": "stdout",
          "text": [
            "Primeras filas después de modificar 'Direc. de proced. del Viento(0=N,90=E)':\n",
            "     Fecha (GMT)  Velocidad del viento(m/s)  \\\n",
            "0  2019 12 12 00                       7.33   \n",
            "1  2019 12 12 01                       5.82   \n",
            "2  2019 12 12 02                       5.84   \n",
            "3  2019 12 12 03                       5.61   \n",
            "4  2019 12 12 04                       5.36   \n",
            "\n",
            "  Direc. de proced. del Viento(0=N,90=E)  \n",
            "0                                    262  \n",
            "1                                    243  \n",
            "2                                    253  \n",
            "3                                    252  \n",
            "4                                    236  \n"
          ]
        }
      ]
    },
    {
      "cell_type": "code",
      "source": [
        "# Convertir la columna de fecha a un formato estándar (yyyy-MM-dd HH)\n",
        "raw_data['Fecha (GMT)'] = pd.to_datetime(\n",
        "    raw_data['Fecha (GMT)'],\n",
        "    format='%Y %m %d %H'\n",
        ")\n",
        "\n",
        "# Mostrar las primeras filas para verificar\n",
        "print(\"Primeras filas con la fecha en formato estándar:\")\n",
        "print(raw_data.head())"
      ],
      "metadata": {
        "colab": {
          "base_uri": "https://localhost:8080/"
        },
        "id": "ZVh8vG0vuYXq",
        "outputId": "166c0527-8960-49ec-81cb-81db365b649c"
      },
      "execution_count": null,
      "outputs": [
        {
          "output_type": "stream",
          "name": "stdout",
          "text": [
            "Primeras filas con la fecha en formato estándar:\n",
            "          Fecha (GMT)  Velocidad del viento(m/s)  \\\n",
            "0 2019-12-12 00:00:00                       7.33   \n",
            "1 2019-12-12 01:00:00                       5.82   \n",
            "2 2019-12-12 02:00:00                       5.84   \n",
            "3 2019-12-12 03:00:00                       5.61   \n",
            "4 2019-12-12 04:00:00                       5.36   \n",
            "\n",
            "  Direc. de proced. del Viento(0=N,90=E)  \n",
            "0                                    262  \n",
            "1                                    243  \n",
            "2                                    253  \n",
            "3                                    252  \n",
            "4                                    236  \n"
          ]
        }
      ]
    },
    {
      "cell_type": "markdown",
      "source": [
        "BUSQUEDA DE VALORES NULOS"
      ],
      "metadata": {
        "id": "PWc5eiUtufcW"
      }
    },
    {
      "cell_type": "code",
      "source": [
        "# Reemplazar -9999.9 por valores nulos (NaN)\n",
        "raw_data.replace(-9999.9, pd.NA, inplace=True)\n",
        "\n",
        "# Analizar los datos nulos de cada columna\n",
        "nulos_por_columna = raw_data.isnull().sum()\n",
        "\n",
        "# Mostrar los resultados\n",
        "print(\"Datos nulos por columna:\")\n",
        "print(nulos_por_columna)"
      ],
      "metadata": {
        "colab": {
          "base_uri": "https://localhost:8080/"
        },
        "id": "l1ZPoJvlub69",
        "outputId": "e4398bcc-4278-46d5-a363-4fcf20dec5b7"
      },
      "execution_count": null,
      "outputs": [
        {
          "output_type": "stream",
          "name": "stdout",
          "text": [
            "Datos nulos por columna:\n",
            "Fecha (GMT)                               0\n",
            "Velocidad del viento(m/s)                 0\n",
            "Direc. de proced. del Viento(0=N,90=E)    0\n",
            "dtype: int64\n"
          ]
        }
      ]
    },
    {
      "cell_type": "markdown",
      "source": [
        "GUARDAMOS EL DATASET LIMPIO"
      ],
      "metadata": {
        "id": "w3N5VWsQu6eQ"
      }
    },
    {
      "cell_type": "code",
      "source": [
        "# Guardar el archivo procesado\n",
        "raw_data.to_csv(\"viento_limpio.csv\", index=False, sep=\",\")\n",
        "\n",
        "print(\"El archivo limpio ha sido guardado como 'viento_limpio.csv'.\")"
      ],
      "metadata": {
        "colab": {
          "base_uri": "https://localhost:8080/"
        },
        "id": "MSqA8IyCu6C1",
        "outputId": "a6006444-53b7-468a-ad9c-4a4c394ef647"
      },
      "execution_count": null,
      "outputs": [
        {
          "output_type": "stream",
          "name": "stdout",
          "text": [
            "El archivo limpio ha sido guardado como 'viento_limpio.csv'.\n"
          ]
        }
      ]
    },
    {
      "cell_type": "markdown",
      "source": [
        "COMPROBAMOS QUE SE HA GUARDADO BIEN"
      ],
      "metadata": {
        "id": "_mTVxRvdvEvi"
      }
    },
    {
      "cell_type": "code",
      "source": [
        "# Leer el archivo recién creado\n",
        "verificacion = pd.read_csv(\"viento_limpio.csv\")\n",
        "\n",
        "# Mostrar las primeras filas del archivo leído\n",
        "print(\"Primeras filas del archivo 'viento_limpio.csv':\")\n",
        "print(verificacion.head())"
      ],
      "metadata": {
        "colab": {
          "base_uri": "https://localhost:8080/"
        },
        "id": "P18u6qVevJDP",
        "outputId": "8d5d0509-91e6-499c-8725-7bd20755ef1a"
      },
      "execution_count": null,
      "outputs": [
        {
          "output_type": "stream",
          "name": "stdout",
          "text": [
            "Primeras filas del archivo 'viento_limpio.csv':\n",
            "           Fecha (GMT)  Velocidad del viento(m/s)  \\\n",
            "0  2019-12-12 00:00:00                       7.33   \n",
            "1  2019-12-12 01:00:00                       5.82   \n",
            "2  2019-12-12 02:00:00                       5.84   \n",
            "3  2019-12-12 03:00:00                       5.61   \n",
            "4  2019-12-12 04:00:00                       5.36   \n",
            "\n",
            "   Direc. de proced. del Viento(0=N,90=E)  \n",
            "0                                     262  \n",
            "1                                     243  \n",
            "2                                     253  \n",
            "3                                     252  \n",
            "4                                     236  \n"
          ]
        }
      ]
    },
    {
      "cell_type": "markdown",
      "source": [
        "# ANALISIS PRELIMINAR"
      ],
      "metadata": {
        "id": "BiMDWO9duxjo"
      }
    },
    {
      "cell_type": "markdown",
      "source": [],
      "metadata": {
        "id": "gCzAr39Eu2BU"
      }
    },
    {
      "cell_type": "code",
      "source": [
        "# Contar el número total de filas en la base de datos\n",
        "total_filas = verificacion.shape[0]\n",
        "\n",
        "# Mostrar el resultado\n",
        "print(f\"Número total de filas en la base de datos: {total_filas}\")"
      ],
      "metadata": {
        "colab": {
          "base_uri": "https://localhost:8080/"
        },
        "id": "rYDLHdqtu3DJ",
        "outputId": "d666ebf6-fc6d-47c0-e1f3-26bf8d6f727f"
      },
      "execution_count": null,
      "outputs": [
        {
          "output_type": "stream",
          "name": "stdout",
          "text": [
            "Número total de filas en la base de datos: 43465\n"
          ]
        }
      ]
    },
    {
      "cell_type": "code",
      "source": [
        "# Obtener la primera fila\n",
        "primera_fila = verificacion.head(1)\n",
        "\n",
        "# Obtener la última fila\n",
        "ultima_fila = verificacion.tail(1)\n",
        "\n",
        "# Mostrar la primera y última fila\n",
        "print(\"Primera fila del dataset:\")\n",
        "print(primera_fila)\n",
        "\n",
        "print(\"\\nÚltima fila del dataset:\")\n",
        "print(ultima_fila)"
      ],
      "metadata": {
        "colab": {
          "base_uri": "https://localhost:8080/"
        },
        "id": "g8ateZq2vSPs",
        "outputId": "38db2e6f-345e-4476-c1ba-719df0781dd7"
      },
      "execution_count": null,
      "outputs": [
        {
          "output_type": "stream",
          "name": "stdout",
          "text": [
            "Primera fila del dataset:\n",
            "           Fecha (GMT)  Velocidad del viento(m/s)  \\\n",
            "0  2019-12-12 00:00:00                       7.33   \n",
            "\n",
            "   Direc. de proced. del Viento(0=N,90=E)  \n",
            "0                                     262  \n",
            "\n",
            "Última fila del dataset:\n",
            "               Fecha (GMT)  Velocidad del viento(m/s)  \\\n",
            "43464  2024-12-09 23:00:00                       8.39   \n",
            "\n",
            "       Direc. de proced. del Viento(0=N,90=E)  \n",
            "43464                                      12  \n"
          ]
        }
      ]
    }
  ]
}