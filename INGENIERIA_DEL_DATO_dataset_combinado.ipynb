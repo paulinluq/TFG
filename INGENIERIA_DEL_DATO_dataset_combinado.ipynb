{
  "nbformat": 4,
  "nbformat_minor": 0,
  "metadata": {
    "colab": {
      "provenance": []
    },
    "kernelspec": {
      "name": "python3",
      "display_name": "Python 3"
    },
    "language_info": {
      "name": "python"
    }
  },
  "cells": [
    {
      "cell_type": "code",
      "execution_count": null,
      "metadata": {
        "colab": {
          "base_uri": "https://localhost:8080/"
        },
        "id": "0h0j9gokaf9s",
        "outputId": "7b3dd31e-1d66-4727-cd72-6d8f61bfe6f8"
      },
      "outputs": [
        {
          "output_type": "stream",
          "name": "stdout",
          "text": [
            "Dataset combinado:\n",
            "           Fecha (GMT)  AlturaSignif.delOleaje(m)  PeriodoMedio(s)  \\\n",
            "0  2019-12-09 00:00:00                        NaN              NaN   \n",
            "1  2019-12-09 01:00:00                        NaN              NaN   \n",
            "2  2019-12-09 02:00:00                        NaN              NaN   \n",
            "3  2019-12-09 03:00:00                        NaN              NaN   \n",
            "4  2019-12-09 04:00:00                        NaN              NaN   \n",
            "\n",
            "   Periodo_Pico  Direccion_Procedencia  Mardefondo1:Alturasignif.Espectral(m)  \\\n",
            "0           NaN                    NaN                                    NaN   \n",
            "1           NaN                    NaN                                    NaN   \n",
            "2           NaN                    NaN                                    NaN   \n",
            "3           NaN                    NaN                                    NaN   \n",
            "4           NaN                    NaN                                    NaN   \n",
            "\n",
            "   Velocidad media de Corriente(m/s)  \\\n",
            "0                                NaN   \n",
            "1                                NaN   \n",
            "2                                NaN   \n",
            "3                                NaN   \n",
            "4                                NaN   \n",
            "\n",
            "   Dir. de prop. de la Corriente (0=N,90=E) SOLAR PRESENCE LUNAR PRESENCE  \\\n",
            "0                                       NaN                             m   \n",
            "1                                       NaN                             m   \n",
            "2                                       NaN                             m   \n",
            "3                                       NaN                             m   \n",
            "4                                       NaN                             m   \n",
            "\n",
            "   ... MN_Illu%   PsAng    PsAMV Sky_motion  Sky_mot_PA  RelVel-ANG  \\\n",
            "0  ...  88.9671  65.267  255.118  22.869809   63.275261   10.556616   \n",
            "1  ...  89.1576  65.342  255.127  24.332777   66.038465   14.261763   \n",
            "2  ...  89.3618  65.399  255.155  26.277736   68.684285   16.113008   \n",
            "3  ...  89.5827  65.438  255.203  28.570061   70.968139   16.373904   \n",
            "4  ...  89.8217  65.458  255.270  31.045700   72.781517   15.401769   \n",
            "\n",
            "   Salinidad(psu)  Temperatura del Agua(ºC)  Velocidad del viento(m/s)  \\\n",
            "0             NaN                       NaN                        NaN   \n",
            "1             NaN                       NaN                        NaN   \n",
            "2             NaN                       NaN                        NaN   \n",
            "3             NaN                       NaN                        NaN   \n",
            "4             NaN                       NaN                        NaN   \n",
            "\n",
            "   Direc. de proced. del Viento(0=N,90=E)  \n",
            "0                                     NaN  \n",
            "1                                     NaN  \n",
            "2                                     NaN  \n",
            "3                                     NaN  \n",
            "4                                     NaN  \n",
            "\n",
            "[5 rows x 34 columns]\n",
            "El dataset combinado se ha guardado como 'dataset_combinado.csv'.\n"
          ]
        }
      ],
      "source": [
        "import pandas as pd\n",
        "\n",
        "# Lista de rutas de los archivos CSV\n",
        "archivos = [\n",
        "    \"/content/olas_limpias (1).csv\",\n",
        "    \"/content/corrientes_limpio.csv\",\n",
        "    \"/content/luna_limpia (1).csv\",\n",
        "    \"/content/salinidad_limpio.csv\",\n",
        "    \"/content/temperatura_agua_limpio_limpio.csv\",\n",
        "    \"/content/viento_limpio.csv\"\n",
        "]\n",
        "\n",
        "# Inicializar un DataFrame vacío para combinar los datos\n",
        "data_combinada = None\n",
        "\n",
        "# Leer y combinar los archivos usando la clave primaria 'Fecha (GMT)'\n",
        "for archivo in archivos:\n",
        "    # Leer cada archivo\n",
        "    data = pd.read_csv(archivo)\n",
        "\n",
        "    # Combinar usando la clave primaria\n",
        "    if data_combinada is None:\n",
        "        data_combinada = data  # Primer archivo se usa como base\n",
        "    else:\n",
        "        data_combinada = pd.merge(data_combinada, data, on=\"Fecha (GMT)\", how=\"outer\")\n",
        "\n",
        "# Mostrar las primeras filas del DataFrame combinado\n",
        "print(\"Dataset combinado:\")\n",
        "print(data_combinada.head())\n",
        "\n",
        "# Guardar el DataFrame combinado como un nuevo archivo CSV\n",
        "data_combinada.to_csv(\"dataset_combinado.csv\", index=False)\n",
        "print(\"El dataset combinado se ha guardado como 'dataset_combinado.csv'.\")\n"
      ]
    }
  ]
}